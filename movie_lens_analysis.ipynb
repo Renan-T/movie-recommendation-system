{
 "cells": [
  {
   "cell_type": "markdown",
   "id": "3ceb46e4-da13-43b7-879b-1132fc7c445f",
   "metadata": {},
   "source": [
    "# Análise do Dataset MovieLens 100k\n",
    "   ## Carregamento dos Dados"
   ]
  },
  {
   "cell_type": "markdown",
   "id": "0b5f644f-38a4-497d-a16c-fef02b678e39",
   "metadata": {},
   "source": [
    "### Verificando as Informações Básicas"
   ]
  },
  {
   "cell_type": "code",
   "execution_count": 10,
   "id": "f2740c0b-c90b-46fc-8ecf-12d74b4c1aac",
   "metadata": {},
   "outputs": [],
   "source": [
    "import pandas as pd\n",
    "import os"
   ]
  },
  {
   "cell_type": "markdown",
   "id": "ca67173f-0084-4529-8782-8478438ae6a0",
   "metadata": {},
   "source": [
    "#### Definindo o caminho para os dados"
   ]
  },
  {
   "cell_type": "code",
   "execution_count": 12,
   "id": "cf4c404c-f0dd-4977-b72a-93d7c4921f07",
   "metadata": {},
   "outputs": [],
   "source": [
    "data_path = 'data/ml-100k/'"
   ]
  },
  {
   "cell_type": "markdown",
   "id": "486864e8-7e16-4d4e-a633-524fb15982ef",
   "metadata": {},
   "source": [
    "#### Carregando arquivo de Avaliações"
   ]
  },
  {
   "cell_type": "code",
   "execution_count": 13,
   "id": "15aafeab-1803-4b26-8517-0a15eaffecde",
   "metadata": {
    "scrolled": true
   },
   "outputs": [
    {
     "name": "stdout",
     "output_type": "stream",
     "text": [
      "--- Ratings Data ---\n",
      "   user_id  movie_id  rating  unix_timestamp\n",
      "0      196       242       3       881250949\n",
      "1      186       302       3       891717742\n",
      "2       22       377       1       878887116\n",
      "3      244        51       2       880606923\n",
      "4      166       346       1       886397596\n",
      "\n",
      "Informações do DataFrame de Ratings:\n",
      "<class 'pandas.core.frame.DataFrame'>\n",
      "RangeIndex: 100000 entries, 0 to 99999\n",
      "Data columns (total 4 columns):\n",
      " #   Column          Non-Null Count   Dtype\n",
      "---  ------          --------------   -----\n",
      " 0   user_id         100000 non-null  int64\n",
      " 1   movie_id        100000 non-null  int64\n",
      " 2   rating          100000 non-null  int64\n",
      " 3   unix_timestamp  100000 non-null  int64\n",
      "dtypes: int64(4)\n",
      "memory usage: 3.1 MB\n",
      "\n",
      "Estatísticas Descritivas dos Ratings:\n",
      "            user_id       movie_id         rating  unix_timestamp\n",
      "count  100000.00000  100000.000000  100000.000000    1.000000e+05\n",
      "mean      462.48475     425.530130       3.529860    8.835289e+08\n",
      "std       266.61442     330.798356       1.125674    5.343856e+06\n",
      "min         1.00000       1.000000       1.000000    8.747247e+08\n",
      "25%       254.00000     175.000000       3.000000    8.794487e+08\n",
      "50%       447.00000     322.000000       4.000000    8.828269e+08\n",
      "75%       682.00000     631.000000       4.000000    8.882600e+08\n",
      "max       943.00000    1682.000000       5.000000    8.932866e+08\n",
      "\n",
      "Formato do DataFrame de Ratings: (100000, 4)\n"
     ]
    }
   ],
   "source": [
    "# Definindo os nomes das colunas\n",
    "r_cols = ['user_id', 'movie_id', 'rating', 'unix_timestamp']\n",
    "\n",
    "# Construindo o caminho completo do arquivo\n",
    "ratings_file = os.path.join(data_path, 'u.data')\n",
    "\n",
    "# Lendo o arquivo\n",
    "ratings = pd.read_csv(ratings_file, sep='\\t', names=r_cols, encoding='latin-1')\n",
    "\n",
    "# Verificando as primeiras linhas e informações básicas\n",
    "print(\"--- Ratings Data ---\")\n",
    "print(ratings.head())\n",
    "print(\"\\nInformações do DataFrame de Ratings:\")\n",
    "ratings.info()\n",
    "print(\"\\nEstatísticas Descritivas dos Ratings:\")\n",
    "print(ratings.describe())\n",
    "print(f\"\\nFormato do DataFrame de Ratings: {ratings.shape}\")"
   ]
  },
  {
   "cell_type": "markdown",
   "id": "285ddbef-6b08-4fb8-9888-55801f523586",
   "metadata": {},
   "source": [
    "#### Carregando o arquivo de Filmes"
   ]
  },
  {
   "cell_type": "code",
   "execution_count": 14,
   "id": "81e25db5-e9b1-4d28-b4b8-e1cf90792f3e",
   "metadata": {},
   "outputs": [
    {
     "name": "stdout",
     "output_type": "stream",
     "text": [
      "\n",
      "\n",
      "--- Movies Data ---\n",
      "   movie_id              title release_date  video_release_date  \\\n",
      "0         1   Toy Story (1995)  01-Jan-1995                 NaN   \n",
      "1         2   GoldenEye (1995)  01-Jan-1995                 NaN   \n",
      "2         3  Four Rooms (1995)  01-Jan-1995                 NaN   \n",
      "3         4  Get Shorty (1995)  01-Jan-1995                 NaN   \n",
      "4         5     Copycat (1995)  01-Jan-1995                 NaN   \n",
      "\n",
      "                                            imdb_url  unknown  Action  \\\n",
      "0  http://us.imdb.com/M/title-exact?Toy%20Story%2...        0       0   \n",
      "1  http://us.imdb.com/M/title-exact?GoldenEye%20(...        0       1   \n",
      "2  http://us.imdb.com/M/title-exact?Four%20Rooms%...        0       0   \n",
      "3  http://us.imdb.com/M/title-exact?Get%20Shorty%...        0       1   \n",
      "4  http://us.imdb.com/M/title-exact?Copycat%20(1995)        0       0   \n",
      "\n",
      "   Adventure  Animation  Children's  ...  Fantasy  Film-Noir  Horror  Musical  \\\n",
      "0          0          1           1  ...        0          0       0        0   \n",
      "1          1          0           0  ...        0          0       0        0   \n",
      "2          0          0           0  ...        0          0       0        0   \n",
      "3          0          0           0  ...        0          0       0        0   \n",
      "4          0          0           0  ...        0          0       0        0   \n",
      "\n",
      "   Mystery  Romance  Sci-Fi  Thriller  War  Western  \n",
      "0        0        0       0         0    0        0  \n",
      "1        0        0       0         1    0        0  \n",
      "2        0        0       0         1    0        0  \n",
      "3        0        0       0         0    0        0  \n",
      "4        0        0       0         1    0        0  \n",
      "\n",
      "[5 rows x 24 columns]\n",
      "\n",
      "Informações do DataFrame de Filmes:\n",
      "<class 'pandas.core.frame.DataFrame'>\n",
      "RangeIndex: 1682 entries, 0 to 1681\n",
      "Data columns (total 24 columns):\n",
      " #   Column              Non-Null Count  Dtype  \n",
      "---  ------              --------------  -----  \n",
      " 0   movie_id            1682 non-null   int64  \n",
      " 1   title               1682 non-null   object \n",
      " 2   release_date        1681 non-null   object \n",
      " 3   video_release_date  0 non-null      float64\n",
      " 4   imdb_url            1679 non-null   object \n",
      " 5   unknown             1682 non-null   int64  \n",
      " 6   Action              1682 non-null   int64  \n",
      " 7   Adventure           1682 non-null   int64  \n",
      " 8   Animation           1682 non-null   int64  \n",
      " 9   Children's          1682 non-null   int64  \n",
      " 10  Comedy              1682 non-null   int64  \n",
      " 11  Crime               1682 non-null   int64  \n",
      " 12  Documentary         1682 non-null   int64  \n",
      " 13  Drama               1682 non-null   int64  \n",
      " 14  Fantasy             1682 non-null   int64  \n",
      " 15  Film-Noir           1682 non-null   int64  \n",
      " 16  Horror              1682 non-null   int64  \n",
      " 17  Musical             1682 non-null   int64  \n",
      " 18  Mystery             1682 non-null   int64  \n",
      " 19  Romance             1682 non-null   int64  \n",
      " 20  Sci-Fi              1682 non-null   int64  \n",
      " 21  Thriller            1682 non-null   int64  \n",
      " 22  War                 1682 non-null   int64  \n",
      " 23  Western             1682 non-null   int64  \n",
      "dtypes: float64(1), int64(20), object(3)\n",
      "memory usage: 315.5+ KB\n",
      "\n",
      "Estatísticas Descritivas dos Filmes (Título):\n",
      "count                               1682\n",
      "unique                              1664\n",
      "top       Designated Mourner, The (1997)\n",
      "freq                                   2\n",
      "Name: title, dtype: object\n",
      "\n",
      "Formato do DataFrame de Filmes: (1682, 24)\n",
      "\n",
      "Tipos de dados das colunas de Gênero (exemplo):\n",
      "unknown       int64\n",
      "Action        int64\n",
      "Adventure     int64\n",
      "Animation     int64\n",
      "Children's    int64\n",
      "dtype: object\n"
     ]
    }
   ],
   "source": [
    "# Definindo os nomes das colunas\n",
    "m_cols = ['movie_id', 'title', 'release_date', 'video_release_date', 'imdb_url']\n",
    "# Adicionando nomes para as colunas de gênero\n",
    "genres = ['unknown', 'Action', 'Adventure', 'Animation', 'Children\\'s', 'Comedy',\n",
    "          'Crime', 'Documentary', 'Drama', 'Fantasy', 'Film-Noir', 'Horror',\n",
    "          'Musical', 'Mystery', 'Romance', 'Sci-Fi', 'Thriller', 'War', 'Western']\n",
    "m_cols.extend(genres)\n",
    "\n",
    "# Construindo o caminho completo do arquivo\n",
    "movies_file = os.path.join(data_path, 'u.item')\n",
    "\n",
    "# Lendo o arquivo\n",
    "movies = pd.read_csv(movies_file, sep='|', names=m_cols, encoding='latin-1')\n",
    "\n",
    "# Verificando as primeiras linhas e informações básicas\n",
    "print(\"\\n\\n--- Movies Data ---\")\n",
    "print(movies.head())\n",
    "print(\"\\nInformações do DataFrame de Filmes:\")\n",
    "movies.info()\n",
    "# A coluna 'title' é a mais relevante para describe neste caso\n",
    "print(\"\\nEstatísticas Descritivas dos Filmes (Título):\")\n",
    "print(movies['title'].describe())\n",
    "print(f\"\\nFormato do DataFrame de Filmes: {movies.shape}\")\n",
    "\n",
    "# Tipos de dados das colunas de gênero\n",
    "print(\"\\nTipos de dados das colunas de Gênero (exemplo):\")\n",
    "print(movies[genres].dtypes.head())"
   ]
  },
  {
   "cell_type": "markdown",
   "id": "59e5ed79-10ba-4802-b7e9-4cf51e5ebb76",
   "metadata": {},
   "source": [
    "### Verificação de Integridade dos Dados"
   ]
  },
  {
   "cell_type": "code",
   "execution_count": 15,
   "id": "46365b23-c3b4-490f-8c2d-32dabed89b2c",
   "metadata": {},
   "outputs": [
    {
     "name": "stdout",
     "output_type": "stream",
     "text": [
      "=== Verificação de Integridade dos Dados ===\n",
      "\n",
      "1. Verificando Ratings:\n",
      "- Total de avaliações: 100000\n",
      "- Valores nulos: 0\n",
      "- Valores únicos de rating: [np.int64(1), np.int64(2), np.int64(3), np.int64(4), np.int64(5)]\n",
      "- Range de user_id: 1 a 943\n",
      "- Range de movie_id: 1 a 1682\n",
      "\n",
      "2. Verificando Movies:\n",
      "- Total de filmes: 1682\n",
      "- Valores nulos: 1686\n",
      "- Filmes duplicados: 18\n",
      "- Range de movie_id: 1 a 1682\n",
      "- Gêneros presentes: 19 de 19 gêneros\n",
      "\n",
      "3. Verificando Relacionamentos:\n",
      "- Filmes em ratings que não estão em movies: 0\n",
      "\n",
      "4. Distribuição de Ratings:\n",
      "rating\n",
      "1     6110\n",
      "2    11370\n",
      "3    27145\n",
      "4    34174\n",
      "5    21201\n",
      "Name: count, dtype: int64\n",
      "\n",
      "5. Gêneros mais comuns:\n",
      "Drama       725\n",
      "Comedy      505\n",
      "Action      251\n",
      "Thriller    251\n",
      "Romance     247\n",
      "dtype: int64\n"
     ]
    }
   ],
   "source": [
    "print(\"=== Verificação de Integridade dos Dados ===\\n\")\n",
    "\n",
    "# Verificando Ratings\n",
    "print(\"1. Verificando Ratings:\")\n",
    "print(f\"- Total de avaliações: {len(ratings)}\")\n",
    "print(f\"- Valores nulos: {ratings.isnull().sum().sum()}\")\n",
    "print(f\"- Valores únicos de rating: {sorted(ratings['rating'].unique())}\")\n",
    "print(f\"- Range de user_id: {ratings['user_id'].min()} a {ratings['user_id'].max()}\")\n",
    "print(f\"- Range de movie_id: {ratings['movie_id'].min()} a {ratings['movie_id'].max()}\\n\")\n",
    "\n",
    "# Verificando Movies\n",
    "print(\"2. Verificando Movies:\")\n",
    "print(f\"- Total de filmes: {len(movies)}\")\n",
    "print(f\"- Valores nulos: {movies.isnull().sum().sum()}\")\n",
    "print(f\"- Filmes duplicados: {movies['title'].duplicated().sum()}\")\n",
    "print(f\"- Range de movie_id: {movies['movie_id'].min()} a {movies['movie_id'].max()}\")\n",
    "print(f\"- Gêneros presentes: {sum(movies[genres].sum() > 0)} de {len(genres)} gêneros\\n\")\n",
    "\n",
    "# Verificando Relacionamentos\n",
    "print(\"3. Verificando Relacionamentos:\")\n",
    "# Verificando se todos os movie_id em ratings existem em movies\n",
    "movies_in_ratings = set(ratings['movie_id'].unique())\n",
    "movies_in_movies = set(movies['movie_id'].unique())\n",
    "print(f\"- Filmes em ratings que não estão em movies: {len(movies_in_ratings - movies_in_movies)}\\n\")\n",
    "\n",
    "# Verificando distribuição de ratings\n",
    "print(\"4. Distribuição de Ratings:\")\n",
    "rating_distribution = ratings['rating'].value_counts().sort_index()\n",
    "print(rating_distribution)\n",
    "\n",
    "# Verificando gêneros mais comuns\n",
    "print(\"\\n5. Gêneros mais comuns:\")\n",
    "genre_counts = movies[genres].sum().sort_values(ascending=False)\n",
    "print(genre_counts.head(5))"
   ]
  },
  {
   "cell_type": "code",
   "execution_count": null,
   "id": "def8e3e9-b150-4deb-b697-35460519c7f5",
   "metadata": {},
   "outputs": [],
   "source": []
  }
 ],
 "metadata": {
  "kernelspec": {
   "display_name": "Python 3 (ipykernel)",
   "language": "python",
   "name": "python3"
  },
  "language_info": {
   "codemirror_mode": {
    "name": "ipython",
    "version": 3
   },
   "file_extension": ".py",
   "mimetype": "text/x-python",
   "name": "python",
   "nbconvert_exporter": "python",
   "pygments_lexer": "ipython3",
   "version": "3.11.12"
  }
 },
 "nbformat": 4,
 "nbformat_minor": 5
}
